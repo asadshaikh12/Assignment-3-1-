{
 "cells": [
  {
   "cell_type": "code",
   "execution_count": 8,
   "id": "58e6a137",
   "metadata": {},
   "outputs": [],
   "source": [
    "#Write a Python function to sum all the numbers in a list.\n",
    "#Sample List : (8, 2, 3, 0, 7)\n",
    "\n",
    "def List(*kkr):    \n",
    "\n",
    "    sum=0\n",
    "    for i in kkr:\n",
    "        \n",
    "        sum=sum+i\n",
    "    \n",
    "    \n",
    "    print(sum) \n",
    "    "
   ]
  },
  {
   "cell_type": "code",
   "execution_count": 3,
   "id": "5e186275",
   "metadata": {},
   "outputs": [
    {
     "name": "stdout",
     "output_type": "stream",
     "text": [
      "20\n"
     ]
    }
   ],
   "source": [
    "List(8,2,3,0,7)"
   ]
  },
  {
   "cell_type": "code",
   "execution_count": 6,
   "id": "7aec8d87",
   "metadata": {},
   "outputs": [],
   "source": [
    "a =[8,2,3,0,7]\n",
    "def List(a):\n",
    "    sum=0\n",
    "    \n",
    "    for i in a:\n",
    "        sum=sum+i\n",
    "        \n",
    "        \n",
    "    print(sum)\n",
    "    "
   ]
  },
  {
   "cell_type": "code",
   "execution_count": 7,
   "id": "111f52d7",
   "metadata": {},
   "outputs": [
    {
     "name": "stdout",
     "output_type": "stream",
     "text": [
      "20\n"
     ]
    }
   ],
   "source": [
    "List(a)"
   ]
  }
 ],
 "metadata": {
  "kernelspec": {
   "display_name": "Python 3 (ipykernel)",
   "language": "python",
   "name": "python3"
  },
  "language_info": {
   "codemirror_mode": {
    "name": "ipython",
    "version": 3
   },
   "file_extension": ".py",
   "mimetype": "text/x-python",
   "name": "python",
   "nbconvert_exporter": "python",
   "pygments_lexer": "ipython3",
   "version": "3.10.1"
  }
 },
 "nbformat": 4,
 "nbformat_minor": 5
}
